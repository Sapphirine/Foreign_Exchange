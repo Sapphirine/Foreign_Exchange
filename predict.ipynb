{
  "nbformat": 4,
  "nbformat_minor": 0,
  "metadata": {
    "colab": {
      "name": "predict.ipynb",
      "provenance": []
    },
    "kernelspec": {
      "name": "python3",
      "display_name": "Python 3"
    },
    "language_info": {
      "name": "python"
    }
  },
  "cells": [
    {
      "cell_type": "code",
      "source": [
        "from google.colab import drive\n",
        "drive.mount('/content/gdrive')"
      ],
      "metadata": {
        "colab": {
          "base_uri": "https://localhost:8080/"
        },
        "id": "L_IUaqvHkT7j",
        "outputId": "75196b07-38d3-4461-ea4f-c3d2a30548c1"
      },
      "execution_count": null,
      "outputs": [
        {
          "output_type": "stream",
          "name": "stdout",
          "text": [
            "Mounted at /content/gdrive\n"
          ]
        }
      ]
    },
    {
      "cell_type": "code",
      "execution_count": null,
      "metadata": {
        "colab": {
          "base_uri": "https://localhost:8080/",
          "height": 388
        },
        "id": "Xl4cSV9VJzxZ",
        "outputId": "fd9ec417-1405-4225-f040-3b8090a38583"
      },
      "outputs": [
        {
          "output_type": "stream",
          "name": "stdout",
          "text": [
            "ground truth:[0.7657, 0.7702, 0.7703, 0.7701, 0.7766, 0.7795, 0.7769]\n"
          ]
        },
        {
          "output_type": "display_data",
          "data": {
            "text/plain": [
              "<Figure size 432x288 with 1 Axes>"
            ],
            "image/png": "[encoded data removed]"
          },
          "metadata": {
            "needs_background": "light"
          }
        },
        {
          "output_type": "stream",
          "name": "stdout",
          "text": [
            "Predicted Value:[0.71431893 0.7181186  0.7235984  0.73066545 0.7373502  0.7399641\n",
            " 0.738648  ]\n",
            "MSE：0.0068277264853220734\n"
          ]
        }
      ],
      "source": [
        "import pandas as pd\n",
        "import matplotlib.pyplot as plt\n",
        "import datetime\n",
        "import os\n",
        "import torch\n",
        "import torch.nn as nn\n",
        "import numpy as np\n",
        "import csv\n",
        "from torch.utils.data import Dataset, DataLoader\n",
        "import matplotlib.pyplot as plt\n",
        "import time\n",
        "\n",
        "\n",
        "class LSTM(nn.Module):\n",
        "    def __init__(self):\n",
        "        super(LSTM, self).__init__()\n",
        "        \n",
        "        self.lstm = nn.LSTM(\n",
        "            input_size=1,\n",
        "            hidden_size=128,\n",
        "            num_layers=2, \n",
        "            batch_first=True)\n",
        "        \n",
        "        self.out = nn.Sequential(\n",
        "            nn.Linear(128, 1))\n",
        "        \n",
        "    def forward(self, x):\n",
        "        r_out, (h_n, h_c) = self.lstm(x, None)\n",
        "        out = self.out(r_out[:, -7:, :])\n",
        "        \n",
        "        return out\n",
        "\n",
        "def MSE(y, t):\n",
        "    return 0.5 * np.sum((np.array(y) - np.array(t))**2)\n",
        "\n",
        "# prediction\n",
        "def pred(model_name):\n",
        "\n",
        "    #PATH\n",
        "    FILE_NAME = model_name\n",
        "    MODEL_PATH = './gdrive/MyDrive/LSTM_foreign_exchange/train_models/' + FILE_NAME+'_lstm.pkl'\n",
        "\n",
        "    DAYS_BEFORE=300\n",
        "\n",
        "    df = pd.read_csv('./gdrive/MyDrive/LSTM_foreign_exchange/data/'+FILE_NAME+'.csv', index_col=0)\n",
        "    \n",
        "    df.index = list(map(lambda x:datetime.datetime.strptime(x, '%d-%b-%y'), df.index))\n",
        "    \n",
        "    pred_date = []\n",
        "    for i in df.index[-DAYS_BEFORE : -DAYS_BEFORE + 7].tolist():\n",
        "      i = str(i)[0:10]\n",
        "      pred_date.append(i)\n",
        "    \n",
        "    series = df['FXRUSD'].copy()\n",
        "    data = series.tolist()[-DAYS_BEFORE:] # use the last 300 data as input\n",
        "    lastday_price = data[-1]\n",
        "    \n",
        "    ground_truth = data[-DAYS_BEFORE : -DAYS_BEFORE + 7]\n",
        "    print(\"ground truth:\" + str(ground_truth))\n",
        "    data_numpy = np.array(data)\n",
        "    data_mean = np.mean(data_numpy)\n",
        "    data_std  = np.std(data_numpy)\n",
        "    data_numpy = (data_numpy - data_mean) / data_std\n",
        "    data_series = torch.Tensor(data_numpy)\n",
        "\n",
        "    lstm = torch.load(MODEL_PATH, map_location=torch.device('cpu'))\n",
        "\n",
        "    x = data_series\n",
        "    x = torch.unsqueeze(torch.unsqueeze(x, dim=0), dim=2)\n",
        "    y = torch.squeeze(lstm(x))\n",
        "\n",
        "    result = []\n",
        "    result.append(torch.squeeze(y.cpu()).detach().numpy() * data_std + data_mean)\n",
        "    result = np.squeeze(result)\n",
        "\n",
        "\n",
        "    plt.plot(pred_date, result, lw=1, c='red', marker='s', ms=4, label='Predicted Result')\n",
        "    # plt.plot(pred_date, ground_truth, lw=1, c='g', marker='o', label='Ground Truth')\n",
        "    # plt-style \n",
        "    plt.xticks(rotation=45)\n",
        "    plt.xlabel('Date')  \n",
        "    plt.ylabel('Exchange Rate(AD to USD)')  \n",
        "    plt.legend() \n",
        "    plt.savefig('./gdrive/MyDrive/LSTM_foreign_exchange/pred_result_for_show.png')\n",
        "    plt.show()\n",
        "\n",
        "\n",
        "    print(\"Predicted Value:\" + str(result))\n",
        "    print(\"MSE：\" + str(MSE(result, ground_truth)))\n",
        "\n",
        "pred(\"exchange_rate\")\n",
        "        \n",
        "    "
      ]
    }
  ]
}